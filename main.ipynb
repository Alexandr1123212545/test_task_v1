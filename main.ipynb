{
 "cells": [
  {
   "cell_type": "code",
   "execution_count": 20,
   "metadata": {},
   "outputs": [],
   "source": [
    "import os\n",
    "import re\n",
    "from multiprocessing import Pool\n",
    "\n",
    "import pandas as pd\n"
   ]
  },
  {
   "cell_type": "code",
   "execution_count": 21,
   "metadata": {},
   "outputs": [],
   "source": [
    "# replace all cells without numbers with NA\n",
    "def replace_non_digit_string(data_frame):\n",
    "    mask = ~data_frame[['Salary', 'BirthDate', 'Time']].apply(lambda col: col.astype(str).str.contains(r'\\d')).any(axis=1)\n",
    "    data_frame.loc[mask, ['Name', 'BirthDate', 'Time']] = pd.NA\n",
    "    return data_frame\n"
   ]
  },
  {
   "cell_type": "code",
   "execution_count": 22,
   "metadata": {},
   "outputs": [],
   "source": [
    "# remove all empty strings\n",
    "def remove_empty_strings(data_frame):\n",
    "    data_frame = data_frame.dropna(how='all')\n",
    "    return data_frame\n"
   ]
  },
  {
   "cell_type": "code",
   "execution_count": 23,
   "metadata": {},
   "outputs": [],
   "source": [
    "# remove all duplicates\n",
    "def remove_duplicates(date_frame):\n",
    "    date_frame = date_frame.drop_duplicates()\n",
    "    return date_frame\n"
   ]
  },
  {
   "cell_type": "code",
   "execution_count": 24,
   "metadata": {},
   "outputs": [],
   "source": [
    "# delete all lines between 1:00:00 and 3:00:00\n",
    "def remove_by_time(data_frame):\n",
    "    start_time = pd.to_datetime('01:00:00').time()\n",
    "    end_time = pd.to_datetime('03:00:00').time()\n",
    "\n",
    "    data_frame['Time'] = pd.to_datetime(data_frame['Time'], format='%H:%M:%S', errors='coerce').dt.time\n",
    "\n",
    "    mask = (data_frame['Time'].notna()) & (data_frame['Time'] > start_time) & (data_frame['Time'] < end_time)\n",
    "    data_frame.loc[mask, ['Name', 'BirthDate', 'Time']] = pd.NA\n",
    "    return data_frame\n"
   ]
  },
  {
   "cell_type": "code",
   "execution_count": 25,
   "metadata": {},
   "outputs": [],
   "source": [
    "# replace all empty cells with NA\n",
    "df = pd.read_csv('.test_data_set.csv')\n",
    "# df = pd.read_csv('test.csv')\n",
    "\n",
    "df.fillna('')\n",
    "\n",
    "df = replace_non_digit_string(df)   \n",
    "df = remove_empty_strings(df)\n",
    "df = remove_duplicates(df)\n",
    "df = remove_by_time(df)\n"
   ]
  },
  {
   "cell_type": "code",
   "execution_count": null,
   "metadata": {},
   "outputs": [],
   "source": [
    "# get unique rows for every hour, get median values and mean values\n",
    "def metrics_calculation(data_frame):\n",
    "    data_frame['Time'] = pd.to_datetime(data_frame['Time'], format='%H:%M:%S').dt.time\n",
    "    \n",
    "    data_frame['Hour'] = pd.to_datetime(data_frame['Time'].astype(str), format='%H:%M:%S').dt.hour\n",
    "   \n",
    "    grouped = data_frame.groupby('Hour')\n",
    "\n",
    "    unique_counts = grouped['Name'].nunique()\n",
    "    mean_values = grouped['Salary'].mean()\n",
    "    median_values = grouped['Salary'].median()\n",
    "\n",
    "    result = pd.DataFrame({\n",
    "        'UniqueCounts': unique_counts,\n",
    "        'MeanValues': mean_values,\n",
    "        'MedianValues': median_values\n",
    "    })\n",
    "\n",
    "    return result\n",
    "\n",
    "metrics = metrics_calculation(df)\n"
   ]
  },
  {
   "cell_type": "code",
   "execution_count": null,
   "metadata": {},
   "outputs": [
    {
     "data": {
      "text/plain": [
       "112634.0"
      ]
     },
     "execution_count": 72,
     "metadata": {},
     "output_type": "execute_result"
    }
   ],
   "source": [
    "metrics"
   ]
  }
 ],
 "metadata": {
  "kernelspec": {
   "display_name": "test_task_v1",
   "language": "python",
   "name": "python3"
  },
  "language_info": {
   "codemirror_mode": {
    "name": "ipython",
    "version": 3
   },
   "file_extension": ".py",
   "mimetype": "text/x-python",
   "name": "python",
   "nbconvert_exporter": "python",
   "pygments_lexer": "ipython3",
   "version": "3.11.10"
  }
 },
 "nbformat": 4,
 "nbformat_minor": 2
}
